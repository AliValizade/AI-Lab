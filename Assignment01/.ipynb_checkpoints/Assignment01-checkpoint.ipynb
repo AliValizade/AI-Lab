{
 "cells": [
  {
   "cell_type": "code",
   "execution_count": 14,
   "id": "593b9eb6",
   "metadata": {},
   "outputs": [],
   "source": [
    "import numpy as np"
   ]
  },
  {
   "cell_type": "code",
   "execution_count": 15,
   "id": "018506da",
   "metadata": {},
   "outputs": [],
   "source": [
    "ali, sara, sami = np.loadtxt('data.txt', delimiter=' ', unpack=True)"
   ]
  },
  {
   "cell_type": "code",
   "execution_count": 16,
   "id": "ff0300e0",
   "metadata": {},
   "outputs": [],
   "source": [
    "aliScores = {}; saraScores = {}; samiScores = {}"
   ]
  },
  {
   "cell_type": "code",
   "execution_count": 17,
   "id": "a5d1c87a",
   "metadata": {},
   "outputs": [],
   "source": [
    "aliScores['ID'] = ali[0]\n",
    "aliScores['Quiz'] = [ali[i] for i in range(1,7)]\n",
    "aliScores['Assignment'] = [ali[i] for i in range(7,11)]\n",
    "aliScores['Final'] = [ali[11]]\n",
    "aliScores['Midterm'] = [ali[12]]"
   ]
  },
  {
   "cell_type": "code",
   "execution_count": 18,
   "id": "0b7bed6c",
   "metadata": {},
   "outputs": [],
   "source": [
    "saraScores['ID'] = sara[0]\n",
    "saraScores['Quiz'] = [sara[i] for i in range(1,7)]\n",
    "saraScores['Assignment'] = [sara[i] for i in range(7,11)]\n",
    "saraScores['Final'] = [sara[11]]\n",
    "saraScores['Midterm'] = [sara[12]]"
   ]
  },
  {
   "cell_type": "code",
   "execution_count": 19,
   "id": "a81cba07",
   "metadata": {},
   "outputs": [],
   "source": [
    "samiScores['ID'] = sami[0]\n",
    "samiScores['Quiz'] = [sami[i] for i in range(1,7)]\n",
    "samiScores['Assignment'] = [sami[i] for i in range(7,11)]\n",
    "samiScores['Final'] = [sami[11]]\n",
    "samiScores['Midterm'] = [sami[12]]"
   ]
  },
  {
   "cell_type": "code",
   "execution_count": 20,
   "id": "90073c1e",
   "metadata": {},
   "outputs": [],
   "source": [
    "aliScores['Quiz'].sort()\n",
    "aliScores['Quiz'].remove(aliScores['Quiz'][0])\n",
    "aliScores['Quiz'].remove(aliScores['Quiz'][0])\n",
    "aliScores['Assignment'].sort()\n",
    "aliScores['Assignment'].remove(aliScores['Assignment'][0])"
   ]
  },
  {
   "cell_type": "code",
   "execution_count": 21,
   "id": "79e978ab",
   "metadata": {},
   "outputs": [],
   "source": [
    "saraScores['Quiz'].sort()\n",
    "saraScores['Quiz'].remove(saraScores['Quiz'][0])\n",
    "saraScores['Quiz'].remove(saraScores['Quiz'][0])\n",
    "saraScores['Assignment'].sort()\n",
    "saraScores['Assignment'].remove(saraScores['Assignment'][0])"
   ]
  },
  {
   "cell_type": "code",
   "execution_count": 22,
   "id": "68db74f5",
   "metadata": {},
   "outputs": [],
   "source": [
    "samiScores['Quiz'].sort()\n",
    "samiScores['Quiz'].remove(samiScores['Quiz'][0])\n",
    "samiScores['Quiz'].remove(samiScores['Quiz'][0])\n",
    "samiScores['Assignment'].sort()\n",
    "samiScores['Assignment'].remove(samiScores['Assignment'][0])"
   ]
  },
  {
   "cell_type": "code",
   "execution_count": 23,
   "id": "74a4837d",
   "metadata": {},
   "outputs": [],
   "source": [
    "aliQuiz = 0; saraQuiz = 0; samiQuiz = 0\n",
    "for i in range(4):\n",
    "    aliQuiz += aliScores['Quiz'][i]\n",
    "    saraQuiz += saraScores['Quiz'][i]\n",
    "    samiQuiz += samiScores['Quiz'][i]\n",
    "aliQuiz /= 4; saraQuiz /= 4; samiQuiz /= 4"
   ]
  },
  {
   "cell_type": "code",
   "execution_count": 24,
   "id": "8a5972f2",
   "metadata": {},
   "outputs": [],
   "source": [
    "aliAssignment = 0; saraAssignment = 0; samiAssignment = 0\n",
    "for i in range(3):\n",
    "    aliAssignment += aliScores['Assignment'][i]\n",
    "    saraAssignment += saraScores['Assignment'][i]\n",
    "    samiAssignment += samiScores['Assignment'][i]\n",
    "aliAssignment /= 3; saraAssignment /= 3; samiAssignment /= 3; "
   ]
  },
  {
   "cell_type": "code",
   "execution_count": 25,
   "id": "ff125309",
   "metadata": {},
   "outputs": [
    {
     "name": "stdout",
     "output_type": "stream",
     "text": [
      "{'ali_Ave': 18.3125, 'sara_Ave': 9.4375, 'sami_Ave': 15.541666666666666}\n"
     ]
    }
   ],
   "source": [
    "Average = {}\n",
    "Average['ali_Ave'] = aliQuiz * 0.25 + aliAssignment * 0.25 + aliScores['Final'][0] * 0.25 + aliScores['Midterm'][0] * 0.25\n",
    "Average['sara_Ave'] = saraQuiz * 0.25 + saraAssignment * 0.25 + saraScores['Final'][0] * 0.25 + saraScores['Midterm'][0] * 0.25\n",
    "Average['sami_Ave'] = samiQuiz * 0.25 + samiAssignment * 0.25 + samiScores['Final'][0] * 0.25 + samiScores['Midterm'][0] * 0.25\n",
    "print(Average)"
   ]
  },
  {
   "cell_type": "code",
   "execution_count": 26,
   "id": "c97e4f08",
   "metadata": {},
   "outputs": [
    {
     "name": "stdout",
     "output_type": "stream",
     "text": [
      "{'ali': 'Passed', 'sara': 'rejected', 'sami': 'Passed'}\n"
     ]
    }
   ],
   "source": [
    "results = {}\n",
    "results['ali'] = 'Passed' if Average['ali_Ave'] >= 10 else 'rejected'\n",
    "results['sara'] = 'Passed' if Average['sara_Ave'] >= 10 else 'rejected'\n",
    "results['sami'] = 'Passed' if Average['sami_Ave'] >= 10 else 'rejected'\n",
    "print(results)"
   ]
  },
  {
   "cell_type": "code",
   "execution_count": null,
   "id": "5bd43620",
   "metadata": {},
   "outputs": [],
   "source": []
  }
 ],
 "metadata": {
  "kernelspec": {
   "display_name": "Python 3 (ipykernel)",
   "language": "python",
   "name": "python3"
  },
  "language_info": {
   "codemirror_mode": {
    "name": "ipython",
    "version": 3
   },
   "file_extension": ".py",
   "mimetype": "text/x-python",
   "name": "python",
   "nbconvert_exporter": "python",
   "pygments_lexer": "ipython3",
   "version": "3.9.13"
  }
 },
 "nbformat": 4,
 "nbformat_minor": 5
}
